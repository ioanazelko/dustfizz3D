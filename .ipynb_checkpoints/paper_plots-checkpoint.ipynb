{
 "cells": [
  {
   "cell_type": "code",
   "execution_count": 6,
   "id": "53849e31",
   "metadata": {},
   "outputs": [],
   "source": [
    "from __future__ import division,print_function\n",
    "\n",
    "import ephem\n",
    "import os\n",
    "import sys\n",
    "import healpy as hp\n",
    "import matplotlib as mpl             ### For plotting options\n",
    "import matplotlib.pyplot as plt\n",
    "import numpy as np\n",
    "import time\n",
    "import h5py \n",
    "import copy\n",
    "DUST_3D_TEMPERATURE_MAP_DATA_LOCATION = os.environ[\"DUST_3D_TEMPERATURE_MAP_DATA_LOCATION\"]\n",
    "DUST_3D_TEMPERATURE_MAP_CODE_LOCATION = os.environ[\"DUST_3D_TEMPERATURE_MAP_CODE_LOCATION\"]\n",
    "DUST_3D_TEMPERATURE_MAP_PAPER_LOCATION = os.environ[\"DUST_3D_TEMPERATURE_MAP_PAPER_LOCATION\"]\n",
    "DUST_3D_TEMPERATURE_MAP_PLOTS_LOCATION = os.environ[\"DUST_3D_TEMPERATURE_MAP_PLOTS_LOCATION\"]\n",
    "sys.path.insert(0, DUST_3D_TEMPERATURE_MAP_CODE_LOCATION)\n",
    "\n",
    "import utils\n",
    "import sky_analysis\n",
    "import sky_plots"
   ]
  },
  {
   "cell_type": "code",
   "execution_count": 8,
   "id": "9c8c993d",
   "metadata": {},
   "outputs": [],
   "source": [
    "file = \"/home/izelko/Documents/dust_data/data/3D_dust_temperature/sampler/tiny_cepheus_beta_fixed_nside32/5908/5908_sampler_run.hdf5\"\n",
    "\n",
    "data_dict = {}\n",
    "with h5py.File(file, \"r\") as g:\n",
    "    for key in list(g.keys()):\n",
    "        data_dict[key]=g[key][()]\n",
    "    g.close()"
   ]
  },
  {
   "cell_type": "code",
   "execution_count": 4,
   "id": "51d696df",
   "metadata": {},
   "outputs": [
    {
     "name": "stdout",
     "output_type": "stream",
     "text": [
      "Doing run  tiny_cepheus_beta_fixed_nside32\n",
      "the sky area is  tiny_cepheus\n",
      "Nr of SuperPixels:  12288\n",
      "Nr of mini pixels in a Super Pixel:  1024\n",
      "Nr of distance slices:  2\n",
      "Reading map data...\n",
      "Subtracting CMB from Planck w approp. conversions from Kcmb to MJySr-1...\n",
      "Converting from Kcmb to MJySr-1...\n",
      "Loading the bayestar 2019 calculated from the medians of all the samples stored\n",
      "Loading bayestar 2019 done\n",
      "loading smooth ebv done\n",
      "running the sampler now\n"
     ]
    },
    {
     "ename": "OSError",
     "evalue": "Unable to open file (unable to open file: name = '/home/izelko/Documents/dust_data/data/3D_dust_temperature/optimizer_fits/tiny_cepheus_beta_fixed_nside32/tiny_cepheus_beta_fixed_nside32.hdf5', errno = 2, error message = 'No such file or directory', flags = 0, o_flags = 0)",
     "output_type": "error",
     "traceback": [
      "\u001b[0;31m---------------------------------------------------------------------------\u001b[0m",
      "\u001b[0;31mOSError\u001b[0m                                   Traceback (most recent call last)",
      "\u001b[0;32m/tmp/ipykernel_733713/3247661643.py\u001b[0m in \u001b[0;36m<module>\u001b[0;34m\u001b[0m\n\u001b[1;32m     17\u001b[0m     \u001b[0mp\u001b[0m\u001b[0;34m.\u001b[0m\u001b[0mload_data\u001b[0m\u001b[0;34m(\u001b[0m\u001b[0;34m)\u001b[0m\u001b[0;34m\u001b[0m\u001b[0;34m\u001b[0m\u001b[0m\n\u001b[1;32m     18\u001b[0m     \u001b[0;31m#p.run_optimizer()\u001b[0m\u001b[0;34m\u001b[0m\u001b[0;34m\u001b[0m\u001b[0;34m\u001b[0m\u001b[0m\n\u001b[0;32m---> 19\u001b[0;31m     \u001b[0mp\u001b[0m\u001b[0;34m.\u001b[0m\u001b[0mrun_sampler\u001b[0m\u001b[0;34m(\u001b[0m\u001b[0;34m)\u001b[0m\u001b[0;34m\u001b[0m\u001b[0;34m\u001b[0m\u001b[0m\n\u001b[0m\u001b[1;32m     20\u001b[0m     \u001b[0mtime_string\u001b[0m \u001b[0;34m=\u001b[0m \u001b[0mutils\u001b[0m\u001b[0;34m.\u001b[0m\u001b[0mend_time\u001b[0m\u001b[0;34m(\u001b[0m\u001b[0mstart_time\u001b[0m\u001b[0;34m)\u001b[0m\u001b[0;34m\u001b[0m\u001b[0;34m\u001b[0m\u001b[0m\n",
      "\u001b[0;32m~/Dropbox/research/research_projects/3D_dust_temperature_map/3D_dust_temperature_map_code/sky_analysis.py\u001b[0m in \u001b[0;36mrun_sampler\u001b[0;34m(self)\u001b[0m\n\u001b[1;32m    516\u001b[0m         \u001b[0mself\u001b[0m\u001b[0;34m.\u001b[0m\u001b[0msampler_options\u001b[0m\u001b[0;34m(\u001b[0m\u001b[0;34m)\u001b[0m\u001b[0;34m\u001b[0m\u001b[0;34m\u001b[0m\u001b[0m\n\u001b[1;32m    517\u001b[0m         \u001b[0mprint\u001b[0m\u001b[0;34m(\u001b[0m\u001b[0;34m\"running the sampler now\"\u001b[0m\u001b[0;34m)\u001b[0m\u001b[0;34m\u001b[0m\u001b[0;34m\u001b[0m\u001b[0m\n\u001b[0;32m--> 518\u001b[0;31m         \u001b[0moptimizer_data_dict\u001b[0m \u001b[0;34m=\u001b[0m \u001b[0mself\u001b[0m\u001b[0;34m.\u001b[0m\u001b[0mload_optimizer_sky_data\u001b[0m\u001b[0;34m(\u001b[0m\u001b[0;34m)\u001b[0m\u001b[0;34m\u001b[0m\u001b[0;34m\u001b[0m\u001b[0m\n\u001b[0m\u001b[1;32m    519\u001b[0m         \u001b[0moptimizer_parameters\u001b[0m \u001b[0;34m=\u001b[0m \u001b[0moptimizer_data_dict\u001b[0m\u001b[0;34m[\u001b[0m\u001b[0;34m\"final_parameters_array\"\u001b[0m\u001b[0;34m]\u001b[0m\u001b[0;34m\u001b[0m\u001b[0;34m\u001b[0m\u001b[0m\n\u001b[1;32m    520\u001b[0m         \u001b[0moptimizer_chi_square\u001b[0m \u001b[0;34m=\u001b[0m \u001b[0moptimizer_data_dict\u001b[0m\u001b[0;34m[\u001b[0m\u001b[0;34m\"final_chi_square_array\"\u001b[0m\u001b[0;34m]\u001b[0m\u001b[0;34m\u001b[0m\u001b[0;34m\u001b[0m\u001b[0m\n",
      "\u001b[0;32m~/Dropbox/research/research_projects/3D_dust_temperature_map/3D_dust_temperature_map_code/sky_analysis.py\u001b[0m in \u001b[0;36mload_optimizer_sky_data\u001b[0;34m(self, file_index)\u001b[0m\n\u001b[1;32m    282\u001b[0m     \u001b[0;32mdef\u001b[0m \u001b[0mload_optimizer_sky_data\u001b[0m\u001b[0;34m(\u001b[0m\u001b[0mself\u001b[0m\u001b[0;34m,\u001b[0m\u001b[0mfile_index\u001b[0m\u001b[0;34m=\u001b[0m\u001b[0;34m\"\"\u001b[0m\u001b[0;34m)\u001b[0m\u001b[0;34m:\u001b[0m\u001b[0;34m\u001b[0m\u001b[0;34m\u001b[0m\u001b[0m\n\u001b[1;32m    283\u001b[0m         \u001b[0mdata_dict\u001b[0m \u001b[0;34m=\u001b[0m \u001b[0;34m{\u001b[0m\u001b[0;34m}\u001b[0m\u001b[0;34m\u001b[0m\u001b[0;34m\u001b[0m\u001b[0m\n\u001b[0;32m--> 284\u001b[0;31m         \u001b[0;32mwith\u001b[0m \u001b[0mh5py\u001b[0m\u001b[0;34m.\u001b[0m\u001b[0mFile\u001b[0m\u001b[0;34m(\u001b[0m\u001b[0mself\u001b[0m\u001b[0;34m.\u001b[0m\u001b[0moptimizer_data_folder\u001b[0m\u001b[0;34m+\u001b[0m\u001b[0;34m\"/\"\u001b[0m\u001b[0;34m+\u001b[0m\u001b[0mself\u001b[0m\u001b[0;34m.\u001b[0m\u001b[0moptimizer_run_name\u001b[0m\u001b[0;34m+\u001b[0m\u001b[0mfile_index\u001b[0m\u001b[0;34m+\u001b[0m\u001b[0;34m\".hdf5\"\u001b[0m\u001b[0;34m,\u001b[0m \u001b[0;34m\"r\"\u001b[0m\u001b[0;34m)\u001b[0m \u001b[0;32mas\u001b[0m \u001b[0mg\u001b[0m\u001b[0;34m:\u001b[0m\u001b[0;34m\u001b[0m\u001b[0;34m\u001b[0m\u001b[0m\n\u001b[0m\u001b[1;32m    285\u001b[0m             \u001b[0mdata_dict\u001b[0m\u001b[0;34m[\u001b[0m\u001b[0;34m\"final_parameters_array\"\u001b[0m\u001b[0;34m]\u001b[0m\u001b[0;34m=\u001b[0m\u001b[0mg\u001b[0m\u001b[0;34m[\u001b[0m\u001b[0;34m\"final_parameters_array\"\u001b[0m\u001b[0;34m]\u001b[0m\u001b[0;34m[\u001b[0m\u001b[0;34m(\u001b[0m\u001b[0;34m)\u001b[0m\u001b[0;34m]\u001b[0m\u001b[0;34m\u001b[0m\u001b[0;34m\u001b[0m\u001b[0m\n\u001b[1;32m    286\u001b[0m             \u001b[0mdata_dict\u001b[0m\u001b[0;34m[\u001b[0m\u001b[0;34m\"final_optimized_functions_array\"\u001b[0m\u001b[0;34m]\u001b[0m \u001b[0;34m=\u001b[0m \u001b[0mg\u001b[0m\u001b[0;34m[\u001b[0m\u001b[0;34m\"final_optimized_functions_array\"\u001b[0m\u001b[0;34m]\u001b[0m\u001b[0;34m[\u001b[0m\u001b[0;34m(\u001b[0m\u001b[0;34m)\u001b[0m\u001b[0;34m]\u001b[0m\u001b[0;34m\u001b[0m\u001b[0;34m\u001b[0m\u001b[0m\n",
      "\u001b[0;32m~/anaconda3/envs/gamma_py3/lib/python3.8/site-packages/h5py/_hl/files.py\u001b[0m in \u001b[0;36m__init__\u001b[0;34m(self, name, mode, driver, libver, userblock_size, swmr, rdcc_nslots, rdcc_nbytes, rdcc_w0, track_order, **kwds)\u001b[0m\n\u001b[1;32m    404\u001b[0m             \u001b[0;32mwith\u001b[0m \u001b[0mphil\u001b[0m\u001b[0;34m:\u001b[0m\u001b[0;34m\u001b[0m\u001b[0;34m\u001b[0m\u001b[0m\n\u001b[1;32m    405\u001b[0m                 \u001b[0mfapl\u001b[0m \u001b[0;34m=\u001b[0m \u001b[0mmake_fapl\u001b[0m\u001b[0;34m(\u001b[0m\u001b[0mdriver\u001b[0m\u001b[0;34m,\u001b[0m \u001b[0mlibver\u001b[0m\u001b[0;34m,\u001b[0m \u001b[0mrdcc_nslots\u001b[0m\u001b[0;34m,\u001b[0m \u001b[0mrdcc_nbytes\u001b[0m\u001b[0;34m,\u001b[0m \u001b[0mrdcc_w0\u001b[0m\u001b[0;34m,\u001b[0m \u001b[0;34m**\u001b[0m\u001b[0mkwds\u001b[0m\u001b[0;34m)\u001b[0m\u001b[0;34m\u001b[0m\u001b[0;34m\u001b[0m\u001b[0m\n\u001b[0;32m--> 406\u001b[0;31m                 fid = make_fid(name, mode, userblock_size,\n\u001b[0m\u001b[1;32m    407\u001b[0m                                \u001b[0mfapl\u001b[0m\u001b[0;34m,\u001b[0m \u001b[0mfcpl\u001b[0m\u001b[0;34m=\u001b[0m\u001b[0mmake_fcpl\u001b[0m\u001b[0;34m(\u001b[0m\u001b[0mtrack_order\u001b[0m\u001b[0;34m=\u001b[0m\u001b[0mtrack_order\u001b[0m\u001b[0;34m)\u001b[0m\u001b[0;34m,\u001b[0m\u001b[0;34m\u001b[0m\u001b[0;34m\u001b[0m\u001b[0m\n\u001b[1;32m    408\u001b[0m                                swmr=swmr)\n",
      "\u001b[0;32m~/anaconda3/envs/gamma_py3/lib/python3.8/site-packages/h5py/_hl/files.py\u001b[0m in \u001b[0;36mmake_fid\u001b[0;34m(name, mode, userblock_size, fapl, fcpl, swmr)\u001b[0m\n\u001b[1;32m    171\u001b[0m         \u001b[0;32mif\u001b[0m \u001b[0mswmr\u001b[0m \u001b[0;32mand\u001b[0m \u001b[0mswmr_support\u001b[0m\u001b[0;34m:\u001b[0m\u001b[0;34m\u001b[0m\u001b[0;34m\u001b[0m\u001b[0m\n\u001b[1;32m    172\u001b[0m             \u001b[0mflags\u001b[0m \u001b[0;34m|=\u001b[0m \u001b[0mh5f\u001b[0m\u001b[0;34m.\u001b[0m\u001b[0mACC_SWMR_READ\u001b[0m\u001b[0;34m\u001b[0m\u001b[0;34m\u001b[0m\u001b[0m\n\u001b[0;32m--> 173\u001b[0;31m         \u001b[0mfid\u001b[0m \u001b[0;34m=\u001b[0m \u001b[0mh5f\u001b[0m\u001b[0;34m.\u001b[0m\u001b[0mopen\u001b[0m\u001b[0;34m(\u001b[0m\u001b[0mname\u001b[0m\u001b[0;34m,\u001b[0m \u001b[0mflags\u001b[0m\u001b[0;34m,\u001b[0m \u001b[0mfapl\u001b[0m\u001b[0;34m=\u001b[0m\u001b[0mfapl\u001b[0m\u001b[0;34m)\u001b[0m\u001b[0;34m\u001b[0m\u001b[0;34m\u001b[0m\u001b[0m\n\u001b[0m\u001b[1;32m    174\u001b[0m     \u001b[0;32melif\u001b[0m \u001b[0mmode\u001b[0m \u001b[0;34m==\u001b[0m \u001b[0;34m'r+'\u001b[0m\u001b[0;34m:\u001b[0m\u001b[0;34m\u001b[0m\u001b[0;34m\u001b[0m\u001b[0m\n\u001b[1;32m    175\u001b[0m         \u001b[0mfid\u001b[0m \u001b[0;34m=\u001b[0m \u001b[0mh5f\u001b[0m\u001b[0;34m.\u001b[0m\u001b[0mopen\u001b[0m\u001b[0;34m(\u001b[0m\u001b[0mname\u001b[0m\u001b[0;34m,\u001b[0m \u001b[0mh5f\u001b[0m\u001b[0;34m.\u001b[0m\u001b[0mACC_RDWR\u001b[0m\u001b[0;34m,\u001b[0m \u001b[0mfapl\u001b[0m\u001b[0;34m=\u001b[0m\u001b[0mfapl\u001b[0m\u001b[0;34m)\u001b[0m\u001b[0;34m\u001b[0m\u001b[0;34m\u001b[0m\u001b[0m\n",
      "\u001b[0;32mh5py/_objects.pyx\u001b[0m in \u001b[0;36mh5py._objects.with_phil.wrapper\u001b[0;34m()\u001b[0m\n",
      "\u001b[0;32mh5py/_objects.pyx\u001b[0m in \u001b[0;36mh5py._objects.with_phil.wrapper\u001b[0;34m()\u001b[0m\n",
      "\u001b[0;32mh5py/h5f.pyx\u001b[0m in \u001b[0;36mh5py.h5f.open\u001b[0;34m()\u001b[0m\n",
      "\u001b[0;31mOSError\u001b[0m: Unable to open file (unable to open file: name = '/home/izelko/Documents/dust_data/data/3D_dust_temperature/optimizer_fits/tiny_cepheus_beta_fixed_nside32/tiny_cepheus_beta_fixed_nside32.hdf5', errno = 2, error message = 'No such file or directory', flags = 0, o_flags = 0)"
     ]
    }
   ],
   "source": [
    "run_list=[\"tiny_cepheus_beta_fixed_nside32\" ] \n",
    "#run_list = [\"tiny_cepheus_beta_varying_nside64\"]\n",
    "#run_list = [\"tiny_cepheus_beta_varying_nside32\"]\n",
    "\n",
    "#run_list = [\"lower_right_tiny_cepheus_beta_fixed_nside128\"]\n",
    "#run_list = [\"lower_right_tiny_cepheus_beta_fixed_nside64\"]\n",
    "#run_list = [\"lower_right_tiny_cepheus_beta_fixed_nside32\"]\n",
    "\n",
    "#run_list = [\"tiny_cepheus_beta_varying_nside32\"]\n",
    "for run in run_list:\n",
    "    print(\"Doing run \", run)\n",
    "    # p = SkyAnalysis(run,run_type=\"optimizer\") \n",
    "    # p.set_up_analysis()\n",
    "    # p.load_data()\n",
    "    p = sky_analysis.SkyAnalysis(run,run_type=\"sampler\") \n",
    "    p.set_up_analysis()\n",
    "    p.load_data()\n",
    "    #p.run_optimizer()\n",
    "    p.run_sampler()\n",
    "    time_string = utils.end_time(start_time)    \n"
   ]
  },
  {
   "cell_type": "code",
   "execution_count": null,
   "id": "87275f6f",
   "metadata": {},
   "outputs": [],
   "source": []
  },
  {
   "cell_type": "code",
   "execution_count": null,
   "id": "f230b991",
   "metadata": {},
   "outputs": [],
   "source": [
    "def run_sampler(self):\n",
    "    #Selecting the super pixels for the fit\n",
    "    self.sampler_options()\n",
    "    print(\"running the sampler now\")\n",
    "    optimizer_data_dict = self.load_optimizer_sky_data()\n",
    "    optimizer_parameters = optimizer_data_dict[\"final_parameters_array\"]\n",
    "    optimizer_chi_square = optimizer_data_dict[\"final_chi_square_array\"]\n",
    "    start_pixel  =self.start_super_pixel\n",
    "    end_pixel = self.end_super_pixel \n",
    "\n",
    "    super_pixels_index_array = np.array(range(start_pixel,end_pixel))\n",
    "    n_chosen_super_pix = len(super_pixels_index_array) #Number of superpixels\n",
    "\n",
    "    nr_of_parallel_processes = self.nr_of_parallel_processes\n",
    "    if n_chosen_super_pix%nr_of_parallel_processes !=0:\n",
    "        raise ValueError(\"Wrong nr of parralel processes or super pixels!!!\")\n",
    "    part_n_super_pixels = int(n_chosen_super_pix/nr_of_parallel_processes)\n",
    "\n",
    "\n",
    "\n",
    "    start_time = time.time()\n",
    "\n",
    "    processes = []\n",
    "    for process_index in range(nr_of_parallel_processes):\n",
    "        def do_it():\n",
    "            sys.stdout.flush()\n",
    "            part_super_pixels_index_array = super_pixels_index_array[process_index*part_n_super_pixels:(process_index+1)*part_n_super_pixels]\n",
    "            part_optimizer_parameters = optimizer_parameters[process_index*part_n_super_pixels:(process_index+1)*part_n_super_pixels]\n",
    "            part_optimizer_chi_square = optimizer_chi_square[process_index*part_n_super_pixels:(process_index+1)*part_n_super_pixels]\n",
    "\n",
    "            parameters_list = []\n",
    "            optimized_function_list = []\n",
    "            final_chi_square_list = []\n",
    "            for i in range(part_n_super_pixels):\n",
    "            #for i in range(201,202):\n",
    "                print(\"Running the sampler for super_pixel \",i, 'process index', process_index)\n",
    "                super_pixel_index=part_super_pixels_index_array[i]\n",
    "                #print(\"Running the sampler for super_pixel \",super_pixel_index)\n",
    "                ### To implement: disregard subpixels that are masked out\n",
    "                ### To implement: only fit superpixels with enough coverage by the extinction map\n",
    "                print(\"original optimizer chi square at super pixel index\",super_pixel_index, part_optimizer_chi_square[i])\n",
    "\n",
    "                # transpose arrays here so that matrix operations work during model evaluation\n",
    "                # selecting the right data for the SuperPixel from the entire sky array\n",
    "                super_pixel_dEBV = self.analysis_dEBV[:,super_pixel_index*self.super_pixel_size:(super_pixel_index+1)*self.super_pixel_size].transpose()\n",
    "                ### after the transpose, the dimmensions are now (pixel_index,distance_slice)\n",
    "                super_pixel_emission = self.analysis_planck[:,super_pixel_index*self.super_pixel_size:(super_pixel_index+1)*self.super_pixel_size].transpose()\n",
    "                ### after the transpose, the dimmensions are now (pixel_index,frequency)\n",
    "                initial_optimizer_parameters = part_optimizer_parameters[i]\n",
    "                ### you could also select based on whether the optimizer conditions were ok\n",
    "\n",
    "                #print(super_pixel_dEBV)\n",
    "                data_dictionary = {\"super_pixel_dEBV\":super_pixel_dEBV,\n",
    "                                   \"super_pixel_emission\": super_pixel_emission ,\n",
    "                                   \"freq_array\":self.freq_array,\n",
    "                                   \"super_pixel_sigma_array\":self.super_pixel_sigma_array}\n",
    "\n",
    "                sampler_super_pixel_specific_configuration ={\"initial_optimizer_parameters\":initial_optimizer_parameters,\n",
    "                                                            \"super_pixel_index\":super_pixel_index,\n",
    "                                                            \"sampler_plots_folder\":self.sampler_plots_folder+\"/\"+str(super_pixel_index),\n",
    "                                                            \"sampler_data_folder\": self.sampler_data_folder+\"/\"+str(super_pixel_index)}\n",
    "\n",
    "\n",
    "                s = sampler.Map3DSampler(sampler_configuration_parameters = self.sampler_configuration_parameters,\n",
    "                    model_configuration_dictionary = self.model_configuration_dictionary,\n",
    "                    data_dictionary=data_dictionary,sampler_super_pixel_specific_configuration=sampler_super_pixel_specific_configuration)\n",
    "#                 print(s.calculate_chi_square_with_priors(initial_optimizer_parameters))\n",
    "#                 print(\"original optimizer ln_prior: \",s.ln_prior(initial_optimizer_parameters))\n",
    "#               s.get_initial_positions(initial_optimizer_parameters)\n",
    "\n",
    "\n",
    "                #check_initial_positions(s)\n",
    "                #s.sample()\n",
    "                #s.process_sampler_data()\n",
    "\n",
    "                data_sampler=s.load_run_data()\n",
    "                s.plot_chain_corner_plots(data_sampler,throw_away_burnout=True)\n",
    "                s.plot_chain_corner_plots(data_sampler,throw_away_burnout=False)\n",
    "\n",
    "\n",
    "        p = Process(target = do_it)\n",
    "        p.start()\n",
    "        processes.append(p)\n",
    "    for job in processes:# this makes the program wait for all the processes to be done\n",
    "        job.join()\n",
    "    print(\"I am done running the optimizers for superpixel \",start_pixel,\" to \", end_pixel)\n",
    "    time_string = utils.end_time(start_time)\n",
    "    # print(\"Saving the data\")  \n",
    "    parallel_dict={}\n"
   ]
  },
  {
   "cell_type": "code",
   "execution_count": null,
   "id": "345374bd",
   "metadata": {},
   "outputs": [],
   "source": []
  },
  {
   "cell_type": "code",
   "execution_count": null,
   "id": "cb8b32c4",
   "metadata": {},
   "outputs": [],
   "source": [
    "\n",
    "\n",
    "p= sky_plots.SkyPlots('bayestar_2019_full_sky_beta_fixed_nside_128_3D_5_steps',run_type='optimizer', nr_of_parallel_processes=32)\n",
    "\n",
    "p.set_up_analysis()\n",
    "data_dict = p.load_optimizer_sky_data()\n",
    "p.load_data()\n"
   ]
  },
  {
   "cell_type": "code",
   "execution_count": null,
   "id": "2f480694",
   "metadata": {},
   "outputs": [],
   "source": [
    "p.plot_planck()\n"
   ]
  },
  {
   "cell_type": "code",
   "execution_count": null,
   "id": "7569ff92",
   "metadata": {},
   "outputs": [],
   "source": [
    "p.plot_reconstructed_total_emission(data_dict)"
   ]
  },
  {
   "cell_type": "code",
   "execution_count": null,
   "id": "9fe6e7f9",
   "metadata": {},
   "outputs": [],
   "source": [
    "\n",
    "def plot_total_difference_emission(self,data_dict):\n",
    "    total_difference_array =data_dict[\"total_difference_array\"]\n",
    "    full_resolution_pixel_index_array = data_dict[\"full_resolution_pixel_index_array\"]\n",
    "    for freq_index in range(self.nfreq):\n",
    "        freq_str = str(int(self.freq_array[freq_index]))\n",
    "        title = \"Total Difference Emission at \"+ freq_str+\" GHz\"\n",
    "        print(\"Title is\",title)\n",
    "        self.plot_healpix_mollview(total_difference_array[:,freq_index],full_resolution_pixel_index_array,\\\n",
    "                                self.nr_of_super_pixels*self.super_pixel_size,title=title,min=0,max=15,unit='MJy/Sr')\n",
    "        full_sky_name  = \"total_difference_emission_\"+freq_str+\".jpg\"\n",
    "        plt.savefig(self.optimizer_plots_folder+\"/\"+full_sky_name)\n",
    "        plt.savefig(self.optimizer_plots_folder+\"/\"+freq_str+\"/\"+full_sky_name)\n",
    "        plt.savefig(self.optimizer_plots_folder+\"/\"+full_sky_name)\n",
    "        self.plot_healpix_gnomview(total_difference_array[:,freq_index],full_resolution_pixel_index_array,\\\n",
    "                                self.nr_of_super_pixels*self.super_pixel_size,title=title,min=0,max=15,rot=self.rot,pixels=self.xsize,unit='MJy/Sr')\n",
    "        filename=\"planck_zoom_\"+str(self.xsize)+\"_\"+freq_str+\"_smooth_total_difference_emission_\"+str(int(self.full_maps_nside))+\".jpg\"\n",
    "        plt.savefig(self.optimizer_plots_folder+\"/\"+filename)\n",
    "        plt.savefig(self.optimizer_plots_folder+\"/\"+freq_str+\"/\"+filename)\n",
    "p.plot_total_difference_emission(data_dict)"
   ]
  },
  {
   "cell_type": "code",
   "execution_count": null,
   "id": "bde8263f",
   "metadata": {},
   "outputs": [],
   "source": [
    "    data_dict[\"final_parameters_array\"]=g[\"final_parameters_array\"][()]\n",
    "            data_dict[\"final_optimized_functions_array\"] = g[\"final_optimized_functions_array\"][()]\n",
    "            data_dict[\"final_chi_square_array\"] = g[\"final_chi_square_array\"][()]\n",
    "            data_dict[\"super_pixels_index_array\"] = g[\"super_pixels_index_array\"][()]\n",
    "\n",
    "voxel_emission_array, total_emission_array, total_difference_array, full_resolution_pixel_index_array=\\\n",
    "                #     self.calculate_reconstructed_emission_data(final_parameters_array,part_super_pixels_index_array)"
   ]
  },
  {
   "cell_type": "code",
   "execution_count": null,
   "id": "62fe5f7c",
   "metadata": {},
   "outputs": [],
   "source": [
    "p.plot_optimizer_sky_parameters(data_dict)\n"
   ]
  },
  {
   "cell_type": "code",
   "execution_count": null,
   "id": "86c64c8d",
   "metadata": {},
   "outputs": [],
   "source": [
    "\n",
    "\n",
    "def plot_optimizer_sky_parameters(self,data_dict):\n",
    "    dec = self.create_declination_mask(p)\n",
    "    parameters = data_dict[\"final_parameters_array\"]\n",
    "    super_pixels_index_array = data_dict[\"super_pixels_index_array\"]\n",
    "    offsets,rhos,betas,Ts = self.separate_sky_optimizer_parameters(parameters)\n",
    "\n",
    "    ## case for rho only varying in each superpixel, or fixed across the sky\n",
    "    \n",
    "    self.plot_healpix_mollview(rhos,super_pixels_index_array,self.nr_of_super_pixels,\\\n",
    "                              title=r\"$\\rho$\",max=3E-4,declination_mask=True)\n",
    "    rhos_masked = copy.deepcopy(rhos)\n",
    "    rhos_masked[dec<-30]=hp.UNSEEN\n",
    "    rhos_selected = rhos_masked[dec>=-30]\n",
    "    self.plot_healpix_mollview(np.log10(rhos),super_pixels_index_array,self.nr_of_super_pixels,\\\n",
    "                              title=r\"$\\log_{10}\\rho$\",declination_mask=True)\n",
    "    plt.show()\n",
    "    \n",
    "#     rho_masked = hp.ma(rhos)\n",
    "#     rho_masked.mask = dec<-30\n",
    "#     self.plot_healpix_mollview(rho_masked.filled(),super_pixels_index_array,self.nr_of_super_pixels,\\\n",
    "#                               title=r\"$\\rho$\",max=2E-4)\n",
    "#     print(np.sum(rhos<0))\n",
    "#     plt.hist(rhos)\n",
    "#     plt.hist(np.log(rhos))\n",
    "    plt.hist(np.log10(rhos_selected),bins=100)\n",
    "    import pandas as pd\n",
    "    df = pd.DataFrame(rhos)\n",
    "    quantile_50=df.quantile(.50).values\n",
    "    quantile_84=df.quantile(.84135).values ## to get the upper 34.135% thresholds\n",
    "    quantile_16=df.quantile(.15865).values ## to get the lower 34.135% thresholds\n",
    "    print(quantile_50, quantile_84, quantile_16)\n",
    "    upperlim=quantile_84-quantile_50\n",
    "    lowerlim=quantile_50-quantile_16\n",
    "    print(lowerlim, upperlim)\n",
    "   # plt.hist(rhos_selected,bins=100)\n",
    "\n",
    "plot_optimizer_sky_parameters(p, data_dict)"
   ]
  },
  {
   "cell_type": "code",
   "execution_count": null,
   "id": "bea9a61a",
   "metadata": {},
   "outputs": [],
   "source": []
  },
  {
   "cell_type": "code",
   "execution_count": null,
   "id": "f9752b7c",
   "metadata": {},
   "outputs": [],
   "source": [
    "p.optimizer_plots_folder"
   ]
  },
  {
   "cell_type": "code",
   "execution_count": null,
   "id": "a665fb39",
   "metadata": {},
   "outputs": [],
   "source": [
    "#### masking declination over under 30\n",
    "\n",
    "p.full_maps_nside"
   ]
  },
  {
   "cell_type": "code",
   "execution_count": null,
   "id": "c5ca8776",
   "metadata": {},
   "outputs": [],
   "source": [
    "p.super_pixel_nside"
   ]
  },
  {
   "cell_type": "code",
   "execution_count": null,
   "id": "80412588",
   "metadata": {},
   "outputs": [],
   "source": [
    "p.nest"
   ]
  },
  {
   "cell_type": "code",
   "execution_count": null,
   "id": "4a02fd71",
   "metadata": {},
   "outputs": [],
   "source": [
    "\n",
    "np.pi"
   ]
  },
  {
   "cell_type": "code",
   "execution_count": null,
   "id": "99e97817",
   "metadata": {},
   "outputs": [],
   "source": [
    "create_mask(p)"
   ]
  },
  {
   "cell_type": "code",
   "execution_count": null,
   "id": "4b499fbe",
   "metadata": {},
   "outputs": [],
   "source": [
    "hp.nside2npix(128)\n"
   ]
  },
  {
   "cell_type": "code",
   "execution_count": null,
   "id": "56276de4",
   "metadata": {},
   "outputs": [],
   "source": []
  }
 ],
 "metadata": {
  "kernelspec": {
   "display_name": "Python 3 (ipykernel)",
   "language": "python",
   "name": "python3"
  },
  "language_info": {
   "codemirror_mode": {
    "name": "ipython",
    "version": 3
   },
   "file_extension": ".py",
   "mimetype": "text/x-python",
   "name": "python",
   "nbconvert_exporter": "python",
   "pygments_lexer": "ipython3",
   "version": "3.8.5"
  }
 },
 "nbformat": 4,
 "nbformat_minor": 5
}
